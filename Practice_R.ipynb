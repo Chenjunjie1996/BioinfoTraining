{
 "cells": [
  {
   "cell_type": "code",
   "execution_count": null,
   "metadata": {},
   "outputs": [],
   "source": [
    "### -------------------------- 生信分析基础 ------------------------------ ###\n",
    "## contact: fuxin@singleronbio.com\n",
    "## R语言基数据础"
   ]
  },
  {
   "cell_type": "code",
   "execution_count": 1,
   "metadata": {},
   "outputs": [
    {
     "name": "stderr",
     "output_type": "stream",
     "text": [
      "── \u001b[1mAttaching packages\u001b[22m ─────────────────────────────────────── tidyverse 1.3.1 ──\n",
      "\n",
      "\u001b[32m✔\u001b[39m \u001b[34mggplot2\u001b[39m 3.3.5     \u001b[32m✔\u001b[39m \u001b[34mpurrr  \u001b[39m 0.3.4\n",
      "\u001b[32m✔\u001b[39m \u001b[34mtibble \u001b[39m 3.1.4     \u001b[32m✔\u001b[39m \u001b[34mdplyr  \u001b[39m 1.0.7\n",
      "\u001b[32m✔\u001b[39m \u001b[34mtidyr  \u001b[39m 1.1.3     \u001b[32m✔\u001b[39m \u001b[34mstringr\u001b[39m 1.4.0\n",
      "\u001b[32m✔\u001b[39m \u001b[34mreadr  \u001b[39m 2.0.1     \u001b[32m✔\u001b[39m \u001b[34mforcats\u001b[39m 0.5.1\n",
      "\n",
      "── \u001b[1mConflicts\u001b[22m ────────────────────────────────────────── tidyverse_conflicts() ──\n",
      "\u001b[31m✖\u001b[39m \u001b[34mdplyr\u001b[39m::\u001b[32mfilter()\u001b[39m masks \u001b[34mstats\u001b[39m::filter()\n",
      "\u001b[31m✖\u001b[39m \u001b[34mdplyr\u001b[39m::\u001b[32mlag()\u001b[39m    masks \u001b[34mstats\u001b[39m::lag()\n",
      "\n"
     ]
    }
   ],
   "source": [
    "library(tidyverse)"
   ]
  },
  {
   "cell_type": "code",
   "execution_count": 2,
   "metadata": {},
   "outputs": [],
   "source": [
    "## --------------------- 1.R语言基础 --------------------------\n",
    "# 数据框 data.frame\n",
    "df1 = data.frame(x = c(\"a\",\"a\",\"b\",\"e\",\"b\",\"a\"),\n",
    "                 y = c(1,2,3,4,4.5,0))\n",
    "df2 = data.frame(x = c(\"a\",\"b\",\"c\",\"d\"),\n",
    "                 z = c(5,6,7,8))"
   ]
  },
  {
   "cell_type": "code",
   "execution_count": 3,
   "metadata": {},
   "outputs": [
    {
     "data": {
      "text/html": [
       "<table class=\"dataframe\">\n",
       "<caption>A data.frame: 6 × 2</caption>\n",
       "<thead>\n",
       "\t<tr><th scope=col>x</th><th scope=col>y</th></tr>\n",
       "\t<tr><th scope=col>&lt;chr&gt;</th><th scope=col>&lt;dbl&gt;</th></tr>\n",
       "</thead>\n",
       "<tbody>\n",
       "\t<tr><td>a</td><td>1.0</td></tr>\n",
       "\t<tr><td>a</td><td>2.0</td></tr>\n",
       "\t<tr><td>b</td><td>3.0</td></tr>\n",
       "\t<tr><td>e</td><td>4.0</td></tr>\n",
       "\t<tr><td>b</td><td>4.5</td></tr>\n",
       "\t<tr><td>a</td><td>0.0</td></tr>\n",
       "</tbody>\n",
       "</table>\n"
      ],
      "text/latex": [
       "A data.frame: 6 × 2\n",
       "\\begin{tabular}{ll}\n",
       " x & y\\\\\n",
       " <chr> & <dbl>\\\\\n",
       "\\hline\n",
       "\t a & 1.0\\\\\n",
       "\t a & 2.0\\\\\n",
       "\t b & 3.0\\\\\n",
       "\t e & 4.0\\\\\n",
       "\t b & 4.5\\\\\n",
       "\t a & 0.0\\\\\n",
       "\\end{tabular}\n"
      ],
      "text/markdown": [
       "\n",
       "A data.frame: 6 × 2\n",
       "\n",
       "| x &lt;chr&gt; | y &lt;dbl&gt; |\n",
       "|---|---|\n",
       "| a | 1.0 |\n",
       "| a | 2.0 |\n",
       "| b | 3.0 |\n",
       "| e | 4.0 |\n",
       "| b | 4.5 |\n",
       "| a | 0.0 |\n",
       "\n"
      ],
      "text/plain": [
       "  x y  \n",
       "1 a 1.0\n",
       "2 a 2.0\n",
       "3 b 3.0\n",
       "4 e 4.0\n",
       "5 b 4.5\n",
       "6 a 0.0"
      ]
     },
     "metadata": {},
     "output_type": "display_data"
    },
    {
     "name": "stdout",
     "output_type": "stream",
     "text": [
      "'data.frame':\t6 obs. of  2 variables:\n",
      " $ x: chr  \"a\" \"a\" \"b\" \"e\" ...\n",
      " $ y: num  1 2 3 4 4.5 0\n"
     ]
    },
    {
     "data": {
      "text/html": [
       "<style>\n",
       ".list-inline {list-style: none; margin:0; padding: 0}\n",
       ".list-inline>li {display: inline-block}\n",
       ".list-inline>li:not(:last-child)::after {content: \"\\00b7\"; padding: 0 .5ex}\n",
       "</style>\n",
       "<ol class=list-inline><li>6</li><li>2</li></ol>\n"
      ],
      "text/latex": [
       "\\begin{enumerate*}\n",
       "\\item 6\n",
       "\\item 2\n",
       "\\end{enumerate*}\n"
      ],
      "text/markdown": [
       "1. 6\n",
       "2. 2\n",
       "\n",
       "\n"
      ],
      "text/plain": [
       "[1] 6 2"
      ]
     },
     "metadata": {},
     "output_type": "display_data"
    },
    {
     "data": {
      "text/html": [
       "<style>\n",
       ".list-inline {list-style: none; margin:0; padding: 0}\n",
       ".list-inline>li {display: inline-block}\n",
       ".list-inline>li:not(:last-child)::after {content: \"\\00b7\"; padding: 0 .5ex}\n",
       "</style>\n",
       "<ol class=list-inline><li>'x'</li><li>'y'</li></ol>\n"
      ],
      "text/latex": [
       "\\begin{enumerate*}\n",
       "\\item 'x'\n",
       "\\item 'y'\n",
       "\\end{enumerate*}\n"
      ],
      "text/markdown": [
       "1. 'x'\n",
       "2. 'y'\n",
       "\n",
       "\n"
      ],
      "text/plain": [
       "[1] \"x\" \"y\""
      ]
     },
     "metadata": {},
     "output_type": "display_data"
    },
    {
     "data": {
      "text/html": [
       "<style>\n",
       ".list-inline {list-style: none; margin:0; padding: 0}\n",
       ".list-inline>li {display: inline-block}\n",
       ".list-inline>li:not(:last-child)::after {content: \"\\00b7\"; padding: 0 .5ex}\n",
       "</style>\n",
       "<ol class=list-inline><li>'1'</li><li>'2'</li><li>'3'</li><li>'4'</li><li>'5'</li><li>'6'</li></ol>\n"
      ],
      "text/latex": [
       "\\begin{enumerate*}\n",
       "\\item '1'\n",
       "\\item '2'\n",
       "\\item '3'\n",
       "\\item '4'\n",
       "\\item '5'\n",
       "\\item '6'\n",
       "\\end{enumerate*}\n"
      ],
      "text/markdown": [
       "1. '1'\n",
       "2. '2'\n",
       "3. '3'\n",
       "4. '4'\n",
       "5. '5'\n",
       "6. '6'\n",
       "\n",
       "\n"
      ],
      "text/plain": [
       "[1] \"1\" \"2\" \"3\" \"4\" \"5\" \"6\""
      ]
     },
     "metadata": {},
     "output_type": "display_data"
    }
   ],
   "source": [
    "#数据框结构\n",
    "df1\n",
    "str(df1) #数据结构\n",
    "dim(df1) #维度\n",
    "colnames(df1) #行名\n",
    "rownames(df1) #列名"
   ]
  },
  {
   "cell_type": "code",
   "execution_count": 4,
   "metadata": {},
   "outputs": [
    {
     "data": {
      "text/html": [
       "<table class=\"dataframe\">\n",
       "<caption>A data.frame: 2 × 6</caption>\n",
       "<thead>\n",
       "\t<tr><th></th><th scope=col>X1</th><th scope=col>X2</th><th scope=col>X3</th><th scope=col>X4</th><th scope=col>X5</th><th scope=col>X6</th></tr>\n",
       "\t<tr><th></th><th scope=col>&lt;chr&gt;</th><th scope=col>&lt;chr&gt;</th><th scope=col>&lt;chr&gt;</th><th scope=col>&lt;chr&gt;</th><th scope=col>&lt;chr&gt;</th><th scope=col>&lt;chr&gt;</th></tr>\n",
       "</thead>\n",
       "<tbody>\n",
       "\t<tr><th scope=row>x</th><td>a  </td><td>a  </td><td>b  </td><td>e  </td><td>b  </td><td>a  </td></tr>\n",
       "\t<tr><th scope=row>y</th><td>1.0</td><td>2.0</td><td>3.0</td><td>4.0</td><td>4.5</td><td>0.0</td></tr>\n",
       "</tbody>\n",
       "</table>\n"
      ],
      "text/latex": [
       "A data.frame: 2 × 6\n",
       "\\begin{tabular}{r|llllll}\n",
       "  & X1 & X2 & X3 & X4 & X5 & X6\\\\\n",
       "  & <chr> & <chr> & <chr> & <chr> & <chr> & <chr>\\\\\n",
       "\\hline\n",
       "\tx & a   & a   & b   & e   & b   & a  \\\\\n",
       "\ty & 1.0 & 2.0 & 3.0 & 4.0 & 4.5 & 0.0\\\\\n",
       "\\end{tabular}\n"
      ],
      "text/markdown": [
       "\n",
       "A data.frame: 2 × 6\n",
       "\n",
       "| <!--/--> | X1 &lt;chr&gt; | X2 &lt;chr&gt; | X3 &lt;chr&gt; | X4 &lt;chr&gt; | X5 &lt;chr&gt; | X6 &lt;chr&gt; |\n",
       "|---|---|---|---|---|---|---|\n",
       "| x | a   | a   | b   | e   | b   | a   |\n",
       "| y | 1.0 | 2.0 | 3.0 | 4.0 | 4.5 | 0.0 |\n",
       "\n"
      ],
      "text/plain": [
       "  X1  X2  X3  X4  X5  X6 \n",
       "x a   a   b   e   b   a  \n",
       "y 1.0 2.0 3.0 4.0 4.5 0.0"
      ]
     },
     "metadata": {},
     "output_type": "display_data"
    },
    {
     "data": {
      "text/html": [
       "<table class=\"dataframe\">\n",
       "<caption>A data.frame: 6 × 2</caption>\n",
       "<thead>\n",
       "\t<tr><th></th><th scope=col>x</th><th scope=col>y</th></tr>\n",
       "\t<tr><th></th><th scope=col>&lt;chr&gt;</th><th scope=col>&lt;chr&gt;</th></tr>\n",
       "</thead>\n",
       "<tbody>\n",
       "\t<tr><th scope=row>X1</th><td>a</td><td>1.0</td></tr>\n",
       "\t<tr><th scope=row>X2</th><td>a</td><td>2.0</td></tr>\n",
       "\t<tr><th scope=row>X3</th><td>b</td><td>3.0</td></tr>\n",
       "\t<tr><th scope=row>X4</th><td>e</td><td>4.0</td></tr>\n",
       "\t<tr><th scope=row>X5</th><td>b</td><td>4.5</td></tr>\n",
       "\t<tr><th scope=row>X6</th><td>a</td><td>0.0</td></tr>\n",
       "</tbody>\n",
       "</table>\n"
      ],
      "text/latex": [
       "A data.frame: 6 × 2\n",
       "\\begin{tabular}{r|ll}\n",
       "  & x & y\\\\\n",
       "  & <chr> & <chr>\\\\\n",
       "\\hline\n",
       "\tX1 & a & 1.0\\\\\n",
       "\tX2 & a & 2.0\\\\\n",
       "\tX3 & b & 3.0\\\\\n",
       "\tX4 & e & 4.0\\\\\n",
       "\tX5 & b & 4.5\\\\\n",
       "\tX6 & a & 0.0\\\\\n",
       "\\end{tabular}\n"
      ],
      "text/markdown": [
       "\n",
       "A data.frame: 6 × 2\n",
       "\n",
       "| <!--/--> | x &lt;chr&gt; | y &lt;chr&gt; |\n",
       "|---|---|---|\n",
       "| X1 | a | 1.0 |\n",
       "| X2 | a | 2.0 |\n",
       "| X3 | b | 3.0 |\n",
       "| X4 | e | 4.0 |\n",
       "| X5 | b | 4.5 |\n",
       "| X6 | a | 0.0 |\n",
       "\n"
      ],
      "text/plain": [
       "   x y  \n",
       "X1 a 1.0\n",
       "X2 a 2.0\n",
       "X3 b 3.0\n",
       "X4 e 4.0\n",
       "X5 b 4.5\n",
       "X6 a 0.0"
      ]
     },
     "metadata": {},
     "output_type": "display_data"
    }
   ],
   "source": [
    "# 数据框转置\n",
    "t_df1= data.frame(t(df1))\n",
    "s_df1 = data.frame(t(t_df1))\n",
    "t_df1\n",
    "s_df1"
   ]
  },
  {
   "cell_type": "code",
   "execution_count": 5,
   "metadata": {},
   "outputs": [
    {
     "name": "stderr",
     "output_type": "stream",
     "text": [
      "Joining, by = \"x\"\n",
      "\n",
      "Joining, by = \"x\"\n",
      "\n",
      "Joining, by = \"x\"\n",
      "\n",
      "Joining, by = \"x\"\n",
      "\n"
     ]
    },
    {
     "data": {
      "text/html": [
       "<table class=\"dataframe\">\n",
       "<caption>A data.frame: 5 × 3</caption>\n",
       "<thead>\n",
       "\t<tr><th scope=col>x</th><th scope=col>y</th><th scope=col>z</th></tr>\n",
       "\t<tr><th scope=col>&lt;chr&gt;</th><th scope=col>&lt;dbl&gt;</th><th scope=col>&lt;dbl&gt;</th></tr>\n",
       "</thead>\n",
       "<tbody>\n",
       "\t<tr><td>a</td><td>1.0</td><td>5</td></tr>\n",
       "\t<tr><td>a</td><td>2.0</td><td>5</td></tr>\n",
       "\t<tr><td>b</td><td>3.0</td><td>6</td></tr>\n",
       "\t<tr><td>b</td><td>4.5</td><td>6</td></tr>\n",
       "\t<tr><td>a</td><td>0.0</td><td>5</td></tr>\n",
       "</tbody>\n",
       "</table>\n"
      ],
      "text/latex": [
       "A data.frame: 5 × 3\n",
       "\\begin{tabular}{lll}\n",
       " x & y & z\\\\\n",
       " <chr> & <dbl> & <dbl>\\\\\n",
       "\\hline\n",
       "\t a & 1.0 & 5\\\\\n",
       "\t a & 2.0 & 5\\\\\n",
       "\t b & 3.0 & 6\\\\\n",
       "\t b & 4.5 & 6\\\\\n",
       "\t a & 0.0 & 5\\\\\n",
       "\\end{tabular}\n"
      ],
      "text/markdown": [
       "\n",
       "A data.frame: 5 × 3\n",
       "\n",
       "| x &lt;chr&gt; | y &lt;dbl&gt; | z &lt;dbl&gt; |\n",
       "|---|---|---|\n",
       "| a | 1.0 | 5 |\n",
       "| a | 2.0 | 5 |\n",
       "| b | 3.0 | 6 |\n",
       "| b | 4.5 | 6 |\n",
       "| a | 0.0 | 5 |\n",
       "\n"
      ],
      "text/plain": [
       "  x y   z\n",
       "1 a 1.0 5\n",
       "2 a 2.0 5\n",
       "3 b 3.0 6\n",
       "4 b 4.5 6\n",
       "5 a 0.0 5"
      ]
     },
     "metadata": {},
     "output_type": "display_data"
    },
    {
     "data": {
      "text/html": [
       "<table class=\"dataframe\">\n",
       "<caption>A data.frame: 8 × 3</caption>\n",
       "<thead>\n",
       "\t<tr><th scope=col>x</th><th scope=col>y</th><th scope=col>z</th></tr>\n",
       "\t<tr><th scope=col>&lt;chr&gt;</th><th scope=col>&lt;dbl&gt;</th><th scope=col>&lt;dbl&gt;</th></tr>\n",
       "</thead>\n",
       "<tbody>\n",
       "\t<tr><td>a</td><td>1.0</td><td> 5</td></tr>\n",
       "\t<tr><td>a</td><td>2.0</td><td> 5</td></tr>\n",
       "\t<tr><td>b</td><td>3.0</td><td> 6</td></tr>\n",
       "\t<tr><td>e</td><td>4.0</td><td>NA</td></tr>\n",
       "\t<tr><td>b</td><td>4.5</td><td> 6</td></tr>\n",
       "\t<tr><td>a</td><td>0.0</td><td> 5</td></tr>\n",
       "\t<tr><td>c</td><td> NA</td><td> 7</td></tr>\n",
       "\t<tr><td>d</td><td> NA</td><td> 8</td></tr>\n",
       "</tbody>\n",
       "</table>\n"
      ],
      "text/latex": [
       "A data.frame: 8 × 3\n",
       "\\begin{tabular}{lll}\n",
       " x & y & z\\\\\n",
       " <chr> & <dbl> & <dbl>\\\\\n",
       "\\hline\n",
       "\t a & 1.0 &  5\\\\\n",
       "\t a & 2.0 &  5\\\\\n",
       "\t b & 3.0 &  6\\\\\n",
       "\t e & 4.0 & NA\\\\\n",
       "\t b & 4.5 &  6\\\\\n",
       "\t a & 0.0 &  5\\\\\n",
       "\t c &  NA &  7\\\\\n",
       "\t d &  NA &  8\\\\\n",
       "\\end{tabular}\n"
      ],
      "text/markdown": [
       "\n",
       "A data.frame: 8 × 3\n",
       "\n",
       "| x &lt;chr&gt; | y &lt;dbl&gt; | z &lt;dbl&gt; |\n",
       "|---|---|---|\n",
       "| a | 1.0 |  5 |\n",
       "| a | 2.0 |  5 |\n",
       "| b | 3.0 |  6 |\n",
       "| e | 4.0 | NA |\n",
       "| b | 4.5 |  6 |\n",
       "| a | 0.0 |  5 |\n",
       "| c |  NA |  7 |\n",
       "| d |  NA |  8 |\n",
       "\n"
      ],
      "text/plain": [
       "  x y   z \n",
       "1 a 1.0  5\n",
       "2 a 2.0  5\n",
       "3 b 3.0  6\n",
       "4 e 4.0 NA\n",
       "5 b 4.5  6\n",
       "6 a 0.0  5\n",
       "7 c  NA  7\n",
       "8 d  NA  8"
      ]
     },
     "metadata": {},
     "output_type": "display_data"
    },
    {
     "data": {
      "text/html": [
       "<table class=\"dataframe\">\n",
       "<caption>A data.frame: 6 × 3</caption>\n",
       "<thead>\n",
       "\t<tr><th scope=col>x</th><th scope=col>y</th><th scope=col>z</th></tr>\n",
       "\t<tr><th scope=col>&lt;chr&gt;</th><th scope=col>&lt;dbl&gt;</th><th scope=col>&lt;dbl&gt;</th></tr>\n",
       "</thead>\n",
       "<tbody>\n",
       "\t<tr><td>a</td><td>1.0</td><td> 5</td></tr>\n",
       "\t<tr><td>a</td><td>2.0</td><td> 5</td></tr>\n",
       "\t<tr><td>b</td><td>3.0</td><td> 6</td></tr>\n",
       "\t<tr><td>e</td><td>4.0</td><td>NA</td></tr>\n",
       "\t<tr><td>b</td><td>4.5</td><td> 6</td></tr>\n",
       "\t<tr><td>a</td><td>0.0</td><td> 5</td></tr>\n",
       "</tbody>\n",
       "</table>\n"
      ],
      "text/latex": [
       "A data.frame: 6 × 3\n",
       "\\begin{tabular}{lll}\n",
       " x & y & z\\\\\n",
       " <chr> & <dbl> & <dbl>\\\\\n",
       "\\hline\n",
       "\t a & 1.0 &  5\\\\\n",
       "\t a & 2.0 &  5\\\\\n",
       "\t b & 3.0 &  6\\\\\n",
       "\t e & 4.0 & NA\\\\\n",
       "\t b & 4.5 &  6\\\\\n",
       "\t a & 0.0 &  5\\\\\n",
       "\\end{tabular}\n"
      ],
      "text/markdown": [
       "\n",
       "A data.frame: 6 × 3\n",
       "\n",
       "| x &lt;chr&gt; | y &lt;dbl&gt; | z &lt;dbl&gt; |\n",
       "|---|---|---|\n",
       "| a | 1.0 |  5 |\n",
       "| a | 2.0 |  5 |\n",
       "| b | 3.0 |  6 |\n",
       "| e | 4.0 | NA |\n",
       "| b | 4.5 |  6 |\n",
       "| a | 0.0 |  5 |\n",
       "\n"
      ],
      "text/plain": [
       "  x y   z \n",
       "1 a 1.0  5\n",
       "2 a 2.0  5\n",
       "3 b 3.0  6\n",
       "4 e 4.0 NA\n",
       "5 b 4.5  6\n",
       "6 a 0.0  5"
      ]
     },
     "metadata": {},
     "output_type": "display_data"
    },
    {
     "data": {
      "text/html": [
       "<table class=\"dataframe\">\n",
       "<caption>A data.frame: 7 × 3</caption>\n",
       "<thead>\n",
       "\t<tr><th scope=col>x</th><th scope=col>y</th><th scope=col>z</th></tr>\n",
       "\t<tr><th scope=col>&lt;chr&gt;</th><th scope=col>&lt;dbl&gt;</th><th scope=col>&lt;dbl&gt;</th></tr>\n",
       "</thead>\n",
       "<tbody>\n",
       "\t<tr><td>a</td><td>1.0</td><td>5</td></tr>\n",
       "\t<tr><td>a</td><td>2.0</td><td>5</td></tr>\n",
       "\t<tr><td>b</td><td>3.0</td><td>6</td></tr>\n",
       "\t<tr><td>b</td><td>4.5</td><td>6</td></tr>\n",
       "\t<tr><td>a</td><td>0.0</td><td>5</td></tr>\n",
       "\t<tr><td>c</td><td> NA</td><td>7</td></tr>\n",
       "\t<tr><td>d</td><td> NA</td><td>8</td></tr>\n",
       "</tbody>\n",
       "</table>\n"
      ],
      "text/latex": [
       "A data.frame: 7 × 3\n",
       "\\begin{tabular}{lll}\n",
       " x & y & z\\\\\n",
       " <chr> & <dbl> & <dbl>\\\\\n",
       "\\hline\n",
       "\t a & 1.0 & 5\\\\\n",
       "\t a & 2.0 & 5\\\\\n",
       "\t b & 3.0 & 6\\\\\n",
       "\t b & 4.5 & 6\\\\\n",
       "\t a & 0.0 & 5\\\\\n",
       "\t c &  NA & 7\\\\\n",
       "\t d &  NA & 8\\\\\n",
       "\\end{tabular}\n"
      ],
      "text/markdown": [
       "\n",
       "A data.frame: 7 × 3\n",
       "\n",
       "| x &lt;chr&gt; | y &lt;dbl&gt; | z &lt;dbl&gt; |\n",
       "|---|---|---|\n",
       "| a | 1.0 | 5 |\n",
       "| a | 2.0 | 5 |\n",
       "| b | 3.0 | 6 |\n",
       "| b | 4.5 | 6 |\n",
       "| a | 0.0 | 5 |\n",
       "| c |  NA | 7 |\n",
       "| d |  NA | 8 |\n",
       "\n"
      ],
      "text/plain": [
       "  x y   z\n",
       "1 a 1.0 5\n",
       "2 a 2.0 5\n",
       "3 b 3.0 6\n",
       "4 b 4.5 6\n",
       "5 a 0.0 5\n",
       "6 c  NA 7\n",
       "7 d  NA 8"
      ]
     },
     "metadata": {},
     "output_type": "display_data"
    }
   ],
   "source": [
    "# 数据框合并\n",
    "inner_join(df1,df2)->ij_df #df1.x & df2.x\n",
    "full_join(df1,df2)-> fj_df #df1.x | df2.x\n",
    "df1%>%left_join(df2)->lj_df # df1.x\n",
    "df1%>%right_join(df2)-> rj_df #df2.x\n",
    "\n",
    "ij_df\n",
    "fj_df\n",
    "lj_df\n",
    "rj_df"
   ]
  },
  {
   "cell_type": "code",
   "execution_count": 6,
   "metadata": {},
   "outputs": [
    {
     "data": {
      "text/html": [
       "<table class=\"dataframe\">\n",
       "<caption>A data.frame: 5 × 3</caption>\n",
       "<thead>\n",
       "\t<tr><th scope=col>x</th><th scope=col>z</th><th scope=col>w</th></tr>\n",
       "\t<tr><th scope=col>&lt;chr&gt;</th><th scope=col>&lt;dbl&gt;</th><th scope=col>&lt;dbl&gt;</th></tr>\n",
       "</thead>\n",
       "<tbody>\n",
       "\t<tr><td>a</td><td>6.0</td><td>1.5372</td></tr>\n",
       "\t<tr><td>a</td><td>7.0</td><td>1.8955</td></tr>\n",
       "\t<tr><td>b</td><td>8.0</td><td>0.0918</td></tr>\n",
       "\t<tr><td>e</td><td>9.0</td><td>2.7579</td></tr>\n",
       "\t<tr><td>b</td><td>9.5</td><td>3.5597</td></tr>\n",
       "</tbody>\n",
       "</table>\n"
      ],
      "text/latex": [
       "A data.frame: 5 × 3\n",
       "\\begin{tabular}{lll}\n",
       " x & z & w\\\\\n",
       " <chr> & <dbl> & <dbl>\\\\\n",
       "\\hline\n",
       "\t a & 6.0 & 1.5372\\\\\n",
       "\t a & 7.0 & 1.8955\\\\\n",
       "\t b & 8.0 & 0.0918\\\\\n",
       "\t e & 9.0 & 2.7579\\\\\n",
       "\t b & 9.5 & 3.5597\\\\\n",
       "\\end{tabular}\n"
      ],
      "text/markdown": [
       "\n",
       "A data.frame: 5 × 3\n",
       "\n",
       "| x &lt;chr&gt; | z &lt;dbl&gt; | w &lt;dbl&gt; |\n",
       "|---|---|---|\n",
       "| a | 6.0 | 1.5372 |\n",
       "| a | 7.0 | 1.8955 |\n",
       "| b | 8.0 | 0.0918 |\n",
       "| e | 9.0 | 2.7579 |\n",
       "| b | 9.5 | 3.5597 |\n",
       "\n"
      ],
      "text/plain": [
       "  x z   w     \n",
       "1 a 6.0 1.5372\n",
       "2 a 7.0 1.8955\n",
       "3 b 8.0 0.0918\n",
       "4 e 9.0 2.7579\n",
       "5 b 9.5 3.5597"
      ]
     },
     "metadata": {},
     "output_type": "display_data"
    }
   ],
   "source": [
    "# 数据框的增（mutate），筛选（filter），取子集（select）\n",
    "df1%>%\n",
    "    mutate(z = y+5,\n",
    "           w = round(rnorm(6, mean=2, sd=1),4))%>%\n",
    "    filter(y > 0)%>%\n",
    "    select(x,z,w)->df1_mfs\n",
    "df1_mfs"
   ]
  },
  {
   "cell_type": "code",
   "execution_count": 7,
   "metadata": {},
   "outputs": [
    {
     "data": {
      "text/html": [
       "<table class=\"dataframe\">\n",
       "<caption>A tibble: 3 × 3</caption>\n",
       "<thead>\n",
       "\t<tr><th scope=col>x</th><th scope=col>mean_z</th><th scope=col>mean_w</th></tr>\n",
       "\t<tr><th scope=col>&lt;chr&gt;</th><th scope=col>&lt;dbl&gt;</th><th scope=col>&lt;dbl&gt;</th></tr>\n",
       "</thead>\n",
       "<tbody>\n",
       "\t<tr><td>a</td><td>6.50</td><td>1.71635</td></tr>\n",
       "\t<tr><td>b</td><td>8.75</td><td>1.82575</td></tr>\n",
       "\t<tr><td>e</td><td>9.00</td><td>2.75790</td></tr>\n",
       "</tbody>\n",
       "</table>\n"
      ],
      "text/latex": [
       "A tibble: 3 × 3\n",
       "\\begin{tabular}{lll}\n",
       " x & mean\\_z & mean\\_w\\\\\n",
       " <chr> & <dbl> & <dbl>\\\\\n",
       "\\hline\n",
       "\t a & 6.50 & 1.71635\\\\\n",
       "\t b & 8.75 & 1.82575\\\\\n",
       "\t e & 9.00 & 2.75790\\\\\n",
       "\\end{tabular}\n"
      ],
      "text/markdown": [
       "\n",
       "A tibble: 3 × 3\n",
       "\n",
       "| x &lt;chr&gt; | mean_z &lt;dbl&gt; | mean_w &lt;dbl&gt; |\n",
       "|---|---|---|\n",
       "| a | 6.50 | 1.71635 |\n",
       "| b | 8.75 | 1.82575 |\n",
       "| e | 9.00 | 2.75790 |\n",
       "\n"
      ],
      "text/plain": [
       "  x mean_z mean_w \n",
       "1 a 6.50   1.71635\n",
       "2 b 8.75   1.82575\n",
       "3 e 9.00   2.75790"
      ]
     },
     "metadata": {},
     "output_type": "display_data"
    }
   ],
   "source": [
    "# 数据框的简单统计 group_by()\n",
    "table(df1$x)->df1_c_stat\n",
    "df1_mfs%>%\n",
    "    group_by(x)%>%\n",
    "    summarise(mean_z = mean(z),mean_w = mean(w))->df1_stat\n",
    "df1_stat"
   ]
  }
 ],
 "metadata": {
  "kernelspec": {
   "display_name": "R",
   "language": "R",
   "name": "ir"
  },
  "language_info": {
   "codemirror_mode": "r",
   "file_extension": ".r",
   "mimetype": "text/x-r-source",
   "name": "R",
   "pygments_lexer": "r",
   "version": "4.0.5"
  }
 },
 "nbformat": 4,
 "nbformat_minor": 4
}
